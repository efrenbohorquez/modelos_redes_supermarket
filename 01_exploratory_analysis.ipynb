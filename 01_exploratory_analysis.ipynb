{
 "cells": [
  {
   "cell_type": "markdown",
   "metadata": {},
   "source": [
    "# Análisis Exploratorio de Datos - Ventas de Supermercado\n",
    "\n",
    "Este notebook realiza un análisis exploratorio completo del dataset de ventas de supermercado, identificando patrones, tendencias y relaciones entre variables que serán útiles para el modelado predictivo posterior.\n",
    "\n",
    "## Objetivos\n",
    "\n",
    "1. Comprender la estructura y características del dataset\n",
    "2. Identificar patrones de ventas por categorías, tiempo y ubicación\n",
    "3. Analizar la distribución de variables clave\n",
    "4. Detectar correlaciones entre variables\n",
    "5. Generar visualizaciones informativas para propietarios de pequeños supermercados"
   ]
  },
  {
   "cell_type": "markdown",
   "metadata": {},
   "source": [
    "## Importación de Librerías"
   ]
  },
  {
   "cell_type": "code",
   "execution_count": null,
   "metadata": {},
   "outputs": [],
   "source": [
    "import pandas as pd\n",
    "import numpy as np\n",
    "import matplotlib.pyplot as plt\n",
    "import seaborn as sns\n",
    "import plotly.express as px\n",
    "import plotly.graph_objects as go\n",
    "from plotly.subplots import make_subplots\n",
    "import os\n",
    "import sys\n",
    "from datetime import datetime\n",
    "\n",
    "# Configuración de visualización\n",
    "plt.style.use('seaborn-v0_8-whitegrid')\n",
    "plt.rcParams['figure.figsize'] = (12, 8)\n",
    "sns.set_palette('viridis')\n",
    "\n",
    "# Agregar directorio raíz al path para importar utilidades\n",
    "sys.path.append('..')\n",
    "from utils.data_utils import load_data, save_processed_data"
   ]
  },
  {
   "cell_type": "markdown",
   "metadata": {},
   "source": [
    "## Carga de Datos"
   ]
  },
  {
   "cell_type": "code",
   "execution_count": null,
   "metadata": {},
   "outputs": [],
   "source": [
    "# Ruta al archivo de datos\n",
    "data_path = '../data/raw/supermarket_sales.xlsx'\n",
    "\n",
    "# Cargar datos\n",
    "df = load_data(data_path)\n",
    "\n",
    "# Mostrar primeras filas\n",
    "print(\"Primeras 5 filas del dataset:\")\n",
    "df.head()"
   ]
  },
  {
   "cell_type": "markdown",
   "metadata": {},
   "source": [
    "## Información General del Dataset"
   ]
  },
  {
   "cell_type": "code",
   "execution_count": null,
   "metadata": {},
   "outputs": [],
   "source": [
    "# Información general\n",
    "print(\"Información del dataset:\")\n",
    "df.info()\n",
    "\n",
    "# Estadísticas descriptivas\n",
    "print(\"\\nEstadísticas descriptivas:\")\n",
    "df.describe().T"
   ]
  },
  {
   "cell_type": "code",
   "execution_count": null,
   "metadata": {},
   "outputs": [],
   "source": [
    "# Verificar valores nulos\n",
    "print(\"Valores nulos por columna:\")\n",
    "df.isnull().sum()"
   ]
  },
  {
   "cell_type": "code",
   "execution_count": null,
   "metadata": {},
   "outputs": [],
   "source": [
    "# Verificar duplicados\n",
    "print(f\"Número de filas duplicadas: {df.duplicated().sum()}\")"
   ]
  },
  {
   "cell_type": "markdown",
   "metadata": {},
   "source": [
    "## Preprocesamiento Inicial"
   ]
  },
  {
   "cell_type": "code",
   "execution_count": null,
   "metadata": {},
   "outputs": [],
   "source": [
    "# Crear copia para no modificar el original\n",
    "data = df.copy()\n",
    "\n",
    "# Convertir fecha y hora a datetime\n",
    "data['Date'] = pd.to_datetime(data['Date'])\n",
    "data['DateTime'] = pd.to_datetime(data['Date'].astype(str) + ' ' + data['Time'])\n",
    "\n",
    "# Extraer componentes de fecha y hora\n",
    "data['Day'] = data['DateTime'].dt.day\n",
    "data['Month'] = data['DateTime'].dt.month\n",
    "data['Year'] = data['DateTime'].dt.year\n",
    "data['DayOfWeek'] = data['DateTime'].dt.dayofweek\n",
    "data['DayName'] = data['DateTime'].dt.day_name()\n",
    "data['Hour'] = data['DateTime'].dt.hour\n",
    "\n",
    "# Mostrar las nuevas columnas\n",
    "data[['Date', 'Time', 'DateTime', 'Day', 'Month', 'Year', 'DayOfWeek', 'DayName', 'Hour']].head()"
   ]
  },
  {
   "cell_type": "markdown",
   "metadata": {},
   "source": [
    "## Análisis de Variables Categóricas"
   ]
  },
  {
   "cell_type": "code",
   "execution_count": null,
   "metadata": {},
   "outputs": [],
   "source": [
    "# Identificar variables categóricas\n",
    "categorical_cols = data.select_dtypes(include=['object']).columns.tolist()\n",
    "print(f\"Variables categóricas: {categorical_cols}\")\n",
    "\n",
    "# Crear función para visualizar distribución de variables categóricas\n",
    "def plot_categorical_distribution(df, column, title=None, figsize=(12, 6)):\n",
    "    plt.figure(figsize=figsize)\n",
    "    \n",
    "    # Contar valores\n",
    "    value_counts = df[column].value_counts().sort_values(ascending=False)\n",
    "    \n",
    "    # Crear gráfico de barras\n",
    "    ax = sns.barplot(x=value_counts.index, y=value_counts.values)\n",
    "    \n",
    "    # Añadir etiquetas\n",
    "    plt.title(title if title else f'Distribución de {column}')\n",
    "    plt.xlabel(column)\n",
    "    plt.ylabel('Frecuencia')\n",
    "    plt.xticks(rotation=45, ha='right')\n",
    "    \n",
    "    # Añadir valores en las barras\n",
    "    for i, v in enumerate(value_counts.values):\n",
    "        ax.text(i, v + 5, str(v), ha='center')\n",
    "    \n",
    "    plt.tight_layout()\n",
    "    plt.show()"
   ]
  },
  {
   "cell_type": "code",
   "execution_count": null,
   "metadata": {},
   "outputs": [],
   "source": [
    "# Analizar distribución de sucursales\n",
    "plot_categorical_distribution(data, 'Branch', 'Distribución de Ventas por Sucursal')\n",
    "\n",
    "# Analizar distribución de ciudades\n",
    "plot_categorical_distribution(data, 'City', 'Distribución de Ventas por Ciudad')"
   ]
  },
  {
   "cell_type": "code",
   "execution_count": null,
   "metadata": {},
   "outputs": [],
   "source": [
    "# Analizar distribución de tipo de cliente\n",
    "plot_categorical_distribution(data, 'Customer type', 'Distribución por Tipo de Cliente')\n",
    "\n",
    "# Analizar distribución de género\n",
    "plot_categorical_distribution(data, 'Gender', 'Distribución por Género')"
   ]
  },
  {
   "cell_type": "code",
   "execution_count": null,
   "metadata": {},
   "outputs": [],
   "source": [
    "# Analizar distribución de líneas de producto\n",
    "plot_categorical_distribution(data, 'Product line', 'Distribución por Línea de Producto')\n",
    "\n",
    "# Analizar distribución de métodos de pago\n",
    "plot_categorical_distribution(data, 'Payment', 'Distribución por Método de Pago')"
   ]
  },
  {
   "cell_type": "markdown",
   "metadata": {},
   "source": [
    "## Análisis de Variables Numéricas"
   ]
  },
  {
   "cell_type": "code",
   "execution_count": null,
   "metadata": {},
   "outputs": [],
   "source": [
    "# Identificar variables numéricas\n",
    "numerical_cols = data.select_dtypes(include=['int64', 'float64']).columns.tolist()\n",
    "print(f\"Variables numéricas: {numerical_cols}\")\n",
    "\n",
    "# Crear función para visualizar distribución de variables numéricas\n",
    "def plot_numerical_distribution(df, column, title=None, figsize=(12, 6)):\n",
    "    plt.figure(figsize=figsize)\n",
    "    \n",
    "    # Crear histograma con curva de densidad\n",
    "    sns.histplot(df[column], kde=True)\n",
    "    \n",
    "    # Añadir línea vertical para la media y mediana\n",
    "    plt.axvline(df[column].mean(), color='red', linestyle='--', label=f'Media: {df[column].mean():.2f}')\n",
    "    plt.axvline(df[column].median(), color='green', linestyle='-.', label=f'Mediana: {df[column].median():.2f}')\n",
    "    \n",
    "    # Añadir etiquetas\n",
    "    plt.title(title if title else f'Distribución de {column}')\n",
    "    plt.xlabel(column)\n",
    "    plt.ylabel('Frecuencia')\n",
    "    plt.legend()\n",
    "    \n",
    "    plt.tight_layout()\n",
    "    plt.show()"
   ]
  },
  {
   "cell_type": "code",
   "execution_count": null,
   "metadata": {},
   "outputs": [],
   "source": [
    "# Analizar distribución de precio unitario\n",
    "plot_numerical_distribution(data, 'Unit price', 'Distribución de Precio Unitario')\n",
    "\n",
    "# Analizar distribución de cantidad\n",
    "plot_numerical_distribution(data, 'Quantity', 'Distribución de Cantidad')"
   ]
  },
  {
   "cell_type": "code",
   "execution_count": null,
   "metadata": {},
   "outputs": [],
   "source": [
    "# Analizar distribución de total\n",
    "plot_numerical_distribution(data, 'Total', 'Distribución de Ventas Totales')\n",
    "\n",
    "# Analizar distribución de calificación\n",
    "plot_numerical_distribution(data, 'Rating', 'Distribución de Calificación del Cliente')"
   ]
  },
  {
   "cell_type": "markdown",
   "metadata": {},
   "source": [
    "## Análisis de Correlaciones"
   ]
  },
  {
   "cell_type": "code",
   "execution_count": null,
   "metadata": {},
   "outputs": [],
   "source": [
    "# Seleccionar variables numéricas para correlación\n",
    "correlation_cols = ['Unit price', 'Quantity', 'Tax 5%', 'Total', 'cogs', 'gross income', 'Rating', 'Day', 'Month', 'Year', 'DayOfWeek', 'Hour']\n",
    "correlation_data = data[correlation_cols]\n",
    "\n",
    "# Calcular matriz de correlación\n",
    "corr_matrix = correlation_data.corr()\n",
    "\n",
    "# Visualizar matriz de correlación\n",
    "plt.figure(figsize=(14, 10))\n",
    "sns.heatmap(corr_matrix, annot=True, cmap='coolwarm', fmt='.2f', linewidths=0.5)\n",
    "plt.title('Matriz de Correlación de Variables Numéricas')\n",
    "plt.tight_layout()\n",
    "plt.show()"
   ]
  },
  {
   "cell_type": "markdown",
   "metadata": {},
   "source": [
    "## Análisis de Ventas por Categorías"
   ]
  },
  {
   "cell_type": "code",
   "execution_count": null,
   "metadata": {},
   "outputs": [],
   "source": [
    "# Ventas por línea de producto\n",
    "product_sales = data.groupby('Product line')['Total'].sum().sort_values(ascending=False).reset_index()\n",
    "\n",
    "plt.figure(figsize=(12, 6))\n",
    "ax = sns.barplot(x='Product line', y='Total', data=product_sales)\n",
    "plt.title('Ventas Totales por Línea de Producto')\n",
    "plt.xlabel('Línea de Producto')\n",
    "plt.ylabel('Ventas Totales')\n",
    "plt.xticks(rotation=45, ha='right')\n",
    "\n",
    "# Añadir valores en las barras\n",
    "for i, v in enumerate(product_sales['Total']):\n",
    "    ax.text(i, v + 100, f'{v:.2f}', ha='center')\n",
    "\n",
    "plt.tight_layout()\n",
    "plt.show()"
   ]
  },
  {
   "cell_type": "code",
   "execution_count": null,
   "metadata": {},
   "outputs": [],
   "source": [
    "# Ventas por sucursal y línea de producto\n",
    "branch_product_sales = data.groupby(['Branch', 'Product line'])['Total'].sum().reset_index()\n",
    "\n",
    "plt.figure(figsize=(14, 8))\n",
    "sns.barplot(x='Product line', y='Total', hue='Branch', data=branch_product_sales)\n",
    "plt.title('Ventas por Línea de Producto y Sucursal')\n",
    "plt.xlabel('Línea de Producto')\n",
    "plt.ylabel('Ventas Totales')\n",
    "plt.xticks(rotation=45, ha='right')\n",
    "plt.legend(title='Sucursal')\n",
    "plt.tight_layout()\n",
    "plt.show()"
   ]
  },
  {
   "cell_type": "code",
   "execution_count": null,
   "metadata": {},
   "outputs": [],
   "source": [
    "# Ventas por tipo de cliente y género\n",
    "customer_gender_sales = data.groupby(['Customer type', 'Gender'])['Total'].sum().reset_index()\n",
    "\n",
    "plt.figure(figsize=(10, 6))\n",
    "sns.barplot(x='Customer type', y='Total', hue='Gender', data=customer_gender_sales)\n",
    "plt.title('Ventas por Tipo de Cliente y Género')\n",
    "plt.xlabel('Tipo de Cliente')\n",
    "plt.ylabel('Ventas Totales')\n",
    "plt.legend(title='Género')\n",
    "plt.tight_layout()\n",
    "plt.show()"
   ]
  },
  {
   "cell_type": "markdown",
   "metadata": {},
   "source": [
    "## Análisis Temporal de Ventas"
   ]
  },
  {
   "cell_type": "code",
   "execution_count": null,
   "metadata": {},
   "outputs": [],
   "source": [
    "# Ventas por día de la semana\n",
    "day_order = ['Monday', 'Tuesday', 'Wednesday', 'Thursday', 'Friday', 'Saturday', 'Sunday']\n",
    "day_sales = data.groupby('DayName')['Total'].sum().reset_index()\n",
    "day_sales['DayName'] = pd.Categorical(day_sales['DayName'], categories=day_order, ordered=True)\n",
    "day_sales = day_sales.sort_values('DayName')\n",
    "\n",
    "plt.figure(figsize=(12, 6))\n",
    "ax = sns.barplot(x='DayName', y='Total', data=day_sales)\n",
    "plt.title('Ventas Totales por Día de la Semana')\n",
    "plt.xlabel('Día de la Semana')\n",
    "plt.ylabel('Ventas Totales')\n",
    "\n",
    "# Añadir valores en las barras\n",
    "for i, v in enumerate(day_sales['Total']):\n",
    "    ax.text(i, v + 100, f'{v:.2f}', ha='center')\n",
    "\n",
    "plt.tight_layout()\n",
    "plt.show()"
   ]
  },
  {
   "cell_type": "code",
   "execution_count": null,
   "metadata": {},
   "outputs": [],
   "source": [
    "# Ventas por hora del día\n",
    "hour_sales = data.groupby('Hour')['Total'].sum().reset_index()\n",
    "\n",
    "plt.figure(figsize=(14, 6))\n",
    "ax = sns.lineplot(x='Hour', y='Total', data=hour_sales, marker='o', linewidth=2)\n",
    "plt.title('Ventas Totales por Hora del Día')\n",
    "plt.xlabel('Hora del Día')\n",
    "plt.ylabel('Ventas Totales')\n",
    "plt.xticks(range(min(hour_sales['Hour']), max(hour_sales['Hour'])+1))\n",
    "plt.grid(True, linestyle='--', alpha=0.7)\n",
    "\n",
    "# Añadir valores en los puntos\n",
    "for i, v in hour_sales.iterrows():\n",
    "    ax.text(v['Hour'], v['Total'] + 100, f'{v[\"Total\"]:.2f}', ha='center')\n",
    "\n",
    "plt.tight_layout()\n",
    "plt.show()"
   ]
  },
  {
   "cell_type": "code",
   "execution_count": null,
   "metadata": {},
   "outputs": [],
   "source": [
    "# Ventas diarias a lo largo del tiempo\n",
    "daily_sales = data.groupby('Date')['Total'].sum().reset_index()\n",
    "\n",
    "plt.figure(figsize=(16, 6))\n",
    "plt.plot(daily_sales['Date'], daily_sales['Total'], marker='o', linestyle='-', linewidth=2)\n",
    "plt.title('Ventas Diarias a lo Largo del Tiempo')\n",
    "plt.xlabel('Fecha')\n",
    "plt.ylabel('Ventas Totales')\n",
    "plt.grid(True, linestyle='--', alpha=0.7)\n",
    "plt.xticks(rotation=45)\n",
    "plt.tight_layout()\n",
    "plt.show()"
   ]
  },
  {
   "cell_type": "markdown",
   "metadata": {},
   "source": [
    "## Análisis de Calificaciones de Clientes"
   ]
  },
  {
   "cell_type": "code",
   "execution_count": null,
   "metadata": {},
   "outputs": [],
   "source": [
    "# Calificación promedio por línea de producto\n",
    "product_rating = data.groupby('Product line')['Rating'].mean().sort_values(ascending=False).reset_index()\n",
    "\n",
    "plt.figure(figsize=(12, 6))\n",
    "ax = sns.barplot(x='Product line', y='Rating', data=product_rating)\n",
    "plt.title('Calificación Promedio por Línea de Producto')\n",
    "plt.xlabel('Línea de Producto')\n",
    "plt.ylabel('Calificación Promedio')\n",
    "plt.xticks(rotation=45, ha='right')\n",
    "\n",
    "# Añadir valores en las barras\n",
    "for i, v in enumerate(product_rating['Rating']):\n",
    "    ax.text(i, v + 0.1, f'{v:.2f}', ha='center')\n",
    "\n",
    "plt.tight_layout()\n",
    "plt.show()"
   ]
  },
  {
   "cell_type": "code",
   "execution_count": null,
   "metadata": {},
   "outputs": [],
   "source": [
    "# Calificación promedio por sucursal\n",
    "branch_rating = data.groupby('Branch')['Rating'].mean().reset_index()\n",
    "\n",
    "plt.figure(figsize=(10, 6))\n",
    "ax = sns.barplot(x='Branch', y='Rating', data=branch_rating)\n",
    "plt.title('Calificación Promedio por Sucursal')\n",
    "plt.xlabel('Sucursal')\n",
    "plt.ylabel('Calificación Promedio')\n",
    "\n",
    "# Añadir valores en las b
(Content truncated due to size limit. Use line ranges to read in chunks)